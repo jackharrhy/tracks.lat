{
 "cells": [
  {
   "cell_type": "code",
   "execution_count": null,
   "metadata": {},
   "outputs": [],
   "source": [
    "%load_ext autoreload\n",
    "%autoreload 2\n"
   ]
  },
  {
   "cell_type": "code",
   "execution_count": null,
   "metadata": {},
   "outputs": [],
   "source": [
    "!pip install geopandas matplotlib contextily\n"
   ]
  },
  {
   "cell_type": "code",
   "execution_count": null,
   "metadata": {},
   "outputs": [],
   "source": [
    "from pathlib import Path\n",
    "\n",
    "import shapely.wkb\n",
    "import geopandas as gpd\n",
    "\n",
    "from app.db import create_pool, get_connection_from_pool\n"
   ]
  },
  {
   "cell_type": "code",
   "execution_count": null,
   "metadata": {},
   "outputs": [],
   "source": [
    "gpx_files = Path(\"./tmp/\").glob(\"*.gpx\")\n",
    "\n",
    "gpx_file = next(gpx_files)\n",
    "\n",
    "gpx_file\n"
   ]
  },
  {
   "cell_type": "code",
   "execution_count": null,
   "metadata": {},
   "outputs": [],
   "source": [
    "row = gpd.read_file(gpx_file, layer=\"tracks\", driver=\"GPX\").iloc[0]\n",
    "\n",
    "name = row[\"name\"]\n",
    "geometry = row[\"geometry\"].wkt\n",
    "activity = row[\"type\"]\n",
    "\n",
    "name, geometry, activity\n"
   ]
  },
  {
   "cell_type": "code",
   "execution_count": null,
   "metadata": {},
   "outputs": [],
   "source": [
    "await create_pool()\n"
   ]
  },
  {
   "cell_type": "code",
   "execution_count": null,
   "metadata": {},
   "outputs": [],
   "source": [
    "async with get_connection_from_pool() as con:\n",
    "    await con.execute(\n",
    "        \"\"\"\n",
    "        INSERT INTO tracks (name, geometry, activity)\n",
    "        VALUES ($1, ST_SetSRID(ST_GeomFromText($2), 4326), $3)\n",
    "        \"\"\",\n",
    "        name, geometry, activity\n",
    "    )\n"
   ]
  },
  {
   "cell_type": "code",
   "execution_count": null,
   "metadata": {},
   "outputs": [],
   "source": [
    "async with get_connection_from_pool() as con:\n",
    "    records = await con.fetch(\"SELECT geometry FROM tracks LIMIT 1\")\n",
    "\n",
    "record = records[0]\n",
    "\n",
    "wkb_str = record[\"geometry\"]\n",
    "wkb = shapely.wkb.loads(wkb_str)\n",
    "\n",
    "gdf = gpd.GeoDataFrame({\"geometry\": [wkb]})\n",
    "\n",
    "gdf.plot()\n"
   ]
  },
  {
   "cell_type": "code",
   "execution_count": null,
   "metadata": {},
   "outputs": [],
   "source": [
    "import matplotlib.pyplot as plt\n",
    "\n",
    "fig = plt.figure()\n",
    "\n",
    "ax = fig.add_subplot(111)\n",
    "\n",
    "gdf.plot(ax=ax)\n",
    "\n",
    "import io\n",
    "\n",
    "buf = io.BytesIO()\n",
    "\n",
    "fig.savefig(buf, format=\"png\")\n",
    "\n",
    "buf.seek(0)\n",
    "\n",
    "buf.read()\n"
   ]
  }
 ],
 "metadata": {
  "kernelspec": {
   "display_name": ".venv",
   "language": "python",
   "name": "python3"
  },
  "language_info": {
   "codemirror_mode": {
    "name": "ipython",
    "version": 3
   },
   "file_extension": ".py",
   "mimetype": "text/x-python",
   "name": "python",
   "nbconvert_exporter": "python",
   "pygments_lexer": "ipython3",
   "version": "3.10.8"
  }
 },
 "nbformat": 4,
 "nbformat_minor": 2
}
